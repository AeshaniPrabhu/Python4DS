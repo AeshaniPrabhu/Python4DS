{
  "nbformat": 4,
  "nbformat_minor": 0,
  "metadata": {
    "kernelspec": {
      "display_name": "Python 3",
      "language": "python",
      "name": "python3"
    },
    "language_info": {
      "codemirror_mode": {
        "name": "ipython",
        "version": 3
      },
      "file_extension": ".py",
      "mimetype": "text/x-python",
      "name": "python",
      "nbconvert_exporter": "python",
      "pygments_lexer": "ipython3",
      "version": "3.7.1"
    },
    "colab": {
      "name": "Assignment1 - Aeshani Prabhu.ipynb",
      "provenance": [],
      "collapsed_sections": []
    }
  },
  "cells": [
    {
      "cell_type": "markdown",
      "metadata": {
        "id": "R5XjGjhluznf",
        "colab_type": "text"
      },
      "source": [
        "# Assignment"
      ]
    },
    {
      "cell_type": "markdown",
      "metadata": {
        "id": "Q8_C0BY1uznm",
        "colab_type": "text"
      },
      "source": [
        "Import numpy as np"
      ]
    },
    {
      "cell_type": "code",
      "metadata": {
        "id": "RDOCjI7juznp",
        "colab_type": "code",
        "colab": {}
      },
      "source": [
        "import numpy as np"
      ],
      "execution_count": 1,
      "outputs": []
    },
    {
      "cell_type": "markdown",
      "metadata": {
        "id": "BZjAGC0yuzny",
        "colab_type": "text"
      },
      "source": [
        "Make a python list => \\[1,2,3,4,5\\]\n",
        "\n",
        "Convert it into numpy array and print it"
      ]
    },
    {
      "cell_type": "code",
      "metadata": {
        "id": "vs1r_pK1uznz",
        "colab_type": "code",
        "colab": {
          "base_uri": "https://localhost:8080/",
          "height": 34
        },
        "outputId": "f5ffaf70-65e1-4d0d-e723-6b51c8d61114"
      },
      "source": [
        "pylist = [1, 2, 3, 4, 5]\n",
        "np_array = np.array(pylist)\n",
        "np_array"
      ],
      "execution_count": 2,
      "outputs": [
        {
          "output_type": "execute_result",
          "data": {
            "text/plain": [
              "array([1, 2, 3, 4, 5])"
            ]
          },
          "metadata": {
            "tags": []
          },
          "execution_count": 2
        }
      ]
    },
    {
      "cell_type": "markdown",
      "metadata": {
        "id": "P-RsCn7muzn6",
        "colab_type": "text"
      },
      "source": [
        "Make a python matrix (3 x 3) => \\[[1,2,3],[4,5,6],[7,8,9]\\]\n",
        "\n",
        "Convert it into numpy array and print it"
      ]
    },
    {
      "cell_type": "code",
      "metadata": {
        "id": "G8shaUIRuzn7",
        "colab_type": "code",
        "colab": {
          "base_uri": "https://localhost:8080/",
          "height": 67
        },
        "outputId": "e3be78fc-6f5f-42e8-b90e-61f834b5a485"
      },
      "source": [
        "pymat = [[1, 2, 3], [4, 5, 6], [7, 8, 9]]\n",
        "np_mat = np.array(pymat)\n",
        "np_mat"
      ],
      "execution_count": 3,
      "outputs": [
        {
          "output_type": "execute_result",
          "data": {
            "text/plain": [
              "array([[1, 2, 3],\n",
              "       [4, 5, 6],\n",
              "       [7, 8, 9]])"
            ]
          },
          "metadata": {
            "tags": []
          },
          "execution_count": 3
        }
      ]
    },
    {
      "cell_type": "markdown",
      "metadata": {
        "id": "uUaw9IyXuzoC",
        "colab_type": "text"
      },
      "source": [
        "Make a matrix (3 x 3) using built-in methods (like arange(), reshape() etc.):\n",
        "\n",
        "\\[ [1,3,5],\n",
        "\n",
        " [7,9,11],\n",
        " \n",
        " [13,15,17] \\]"
      ]
    },
    {
      "cell_type": "code",
      "metadata": {
        "id": "eUtaZiwTuzoF",
        "colab_type": "code",
        "colab": {
          "base_uri": "https://localhost:8080/",
          "height": 84
        },
        "outputId": "3c840810-3773-4cac-cbbc-28e4a84896eb"
      },
      "source": [
        "matrix = np.arange(1, 18, 2)\n",
        "print(matrix)\n",
        "res_matrix = matrix.reshape((3, 3))\n",
        "print(res_matrix)"
      ],
      "execution_count": 9,
      "outputs": [
        {
          "output_type": "stream",
          "text": [
            "[ 1  3  5  7  9 11 13 15 17]\n",
            "[[ 1  3  5]\n",
            " [ 7  9 11]\n",
            " [13 15 17]]\n"
          ],
          "name": "stdout"
        }
      ]
    },
    {
      "cell_type": "markdown",
      "metadata": {
        "id": "sbiDVpoWuzoN",
        "colab_type": "text"
      },
      "source": [
        "Create a numpy array with 10 random numbers from 0 to 10 (there should be few numbers greater than 1)"
      ]
    },
    {
      "cell_type": "code",
      "metadata": {
        "id": "SPeTPBx8uzoO",
        "colab_type": "code",
        "colab": {
          "base_uri": "https://localhost:8080/",
          "height": 34
        },
        "outputId": "ca8260da-cd11-417b-c7ea-8b8981e925c5"
      },
      "source": [
        "array = np.random.randint(0, 11, 10)\n",
        "array"
      ],
      "execution_count": 16,
      "outputs": [
        {
          "output_type": "execute_result",
          "data": {
            "text/plain": [
              "array([10,  9,  6,  9,  1,  4, 10,  4,  2,  4])"
            ]
          },
          "metadata": {
            "tags": []
          },
          "execution_count": 16
        }
      ]
    },
    {
      "cell_type": "markdown",
      "metadata": {
        "id": "mKtofy2zuzoT",
        "colab_type": "text"
      },
      "source": [
        "Create numpy array => \\[1,2,3,4,5\\] and convert it to 2D array with 5 rows"
      ]
    },
    {
      "cell_type": "code",
      "metadata": {
        "id": "KLU68DuXuzoU",
        "colab_type": "code",
        "colab": {
          "base_uri": "https://localhost:8080/",
          "height": 101
        },
        "outputId": "2f2742f0-c551-4c4c-d18d-30b5b1d65ff0"
      },
      "source": [
        "array = np.array([1, 2, 3, 4, 5])\n",
        "narray = array.reshape((5,1))\n",
        "narray"
      ],
      "execution_count": 23,
      "outputs": [
        {
          "output_type": "execute_result",
          "data": {
            "text/plain": [
              "array([[1],\n",
              "       [2],\n",
              "       [3],\n",
              "       [4],\n",
              "       [5]])"
            ]
          },
          "metadata": {
            "tags": []
          },
          "execution_count": 23
        }
      ]
    },
    {
      "cell_type": "markdown",
      "metadata": {
        "id": "YTrgkfOkuzoa",
        "colab_type": "text"
      },
      "source": [
        "Print the shape of the above created array"
      ]
    },
    {
      "cell_type": "code",
      "metadata": {
        "id": "-NmjxGPGuzob",
        "colab_type": "code",
        "colab": {
          "base_uri": "https://localhost:8080/",
          "height": 34
        },
        "outputId": "2b1f80d1-14b7-4cb2-ac47-920a4148e6a4"
      },
      "source": [
        "narray.shape"
      ],
      "execution_count": 24,
      "outputs": [
        {
          "output_type": "execute_result",
          "data": {
            "text/plain": [
              "(5, 1)"
            ]
          },
          "metadata": {
            "tags": []
          },
          "execution_count": 24
        }
      ]
    },
    {
      "cell_type": "markdown",
      "metadata": {
        "id": "dLNcBInauzoh",
        "colab_type": "text"
      },
      "source": [
        "Create a numpy array with 10 elements in it. Access and print its 3rd, 4th and 9th element."
      ]
    },
    {
      "cell_type": "code",
      "metadata": {
        "id": "Qmwm4X4Euzoj",
        "colab_type": "code",
        "colab": {
          "base_uri": "https://localhost:8080/",
          "height": 84
        },
        "outputId": "4e0f22f6-62dd-4a35-cfc6-89fc9ee404aa"
      },
      "source": [
        "array = np.random.randint(0, 11, 10)\n",
        "print(array)\n",
        "print(array[2])\n",
        "print(array[3])\n",
        "print(array[8])"
      ],
      "execution_count": 25,
      "outputs": [
        {
          "output_type": "stream",
          "text": [
            "[ 6  7  2  1  8  7 10  0  9  1]\n",
            "2\n",
            "1\n",
            "9\n"
          ],
          "name": "stdout"
        }
      ]
    },
    {
      "cell_type": "markdown",
      "metadata": {
        "id": "7cyUMpaEuzoq",
        "colab_type": "text"
      },
      "source": [
        "Print alternate elements of that array"
      ]
    },
    {
      "cell_type": "code",
      "metadata": {
        "id": "vSjCFg3puzos",
        "colab_type": "code",
        "colab": {
          "base_uri": "https://localhost:8080/",
          "height": 101
        },
        "outputId": "8bfc9192-1b0a-4e76-b4bd-da154ddad61a"
      },
      "source": [
        "for i in range(len(array)):\n",
        "  if i % 2 == 0:\n",
        "    print(array[i])"
      ],
      "execution_count": 26,
      "outputs": [
        {
          "output_type": "stream",
          "text": [
            "6\n",
            "2\n",
            "8\n",
            "10\n",
            "9\n"
          ],
          "name": "stdout"
        }
      ]
    },
    {
      "cell_type": "markdown",
      "metadata": {
        "id": "kfspG9X7uzow",
        "colab_type": "text"
      },
      "source": [
        "Change last 3 elements into 100 using broadcasting and print"
      ]
    },
    {
      "cell_type": "code",
      "metadata": {
        "id": "y0eNySRyuzox",
        "colab_type": "code",
        "colab": {
          "base_uri": "https://localhost:8080/",
          "height": 34
        },
        "outputId": "7e05a606-5c69-4f88-b160-64ec88183770"
      },
      "source": [
        "array[-3 :] = 100\n",
        "array"
      ],
      "execution_count": 27,
      "outputs": [
        {
          "output_type": "execute_result",
          "data": {
            "text/plain": [
              "array([  6,   7,   2,   1,   8,   7,  10, 100, 100, 100])"
            ]
          },
          "metadata": {
            "tags": []
          },
          "execution_count": 27
        }
      ]
    },
    {
      "cell_type": "markdown",
      "metadata": {
        "id": "5C0k3ILSuzo5",
        "colab_type": "text"
      },
      "source": [
        "Create a 5 x 5 matrix (fill it with any element you like), print it.\n",
        "\n",
        "Then print the middle (3 x 3) matrix."
      ]
    },
    {
      "cell_type": "code",
      "metadata": {
        "id": "MkpMd72Muzo7",
        "colab_type": "code",
        "colab": {
          "base_uri": "https://localhost:8080/",
          "height": 168
        },
        "outputId": "6292361f-2ba3-4f16-d258-daded27e28d5"
      },
      "source": [
        "array = np.random.randint(0, 50, (5, 5))\n",
        "print(array)\n",
        "print(\"____________________________________________________\")\n",
        "array[1:4, 1:4]"
      ],
      "execution_count": 33,
      "outputs": [
        {
          "output_type": "stream",
          "text": [
            "[[26 21 21 15 29]\n",
            " [43 14 35  4 16]\n",
            " [16 39 23 10 25]\n",
            " [40 30 18 37 17]\n",
            " [45 12 26 30 39]]\n",
            "____________________________________________________\n"
          ],
          "name": "stdout"
        },
        {
          "output_type": "execute_result",
          "data": {
            "text/plain": [
              "array([[14, 35,  4],\n",
              "       [39, 23, 10],\n",
              "       [30, 18, 37]])"
            ]
          },
          "metadata": {
            "tags": []
          },
          "execution_count": 33
        }
      ]
    },
    {
      "cell_type": "code",
      "metadata": {
        "id": "_dK2vTumDNQJ",
        "colab_type": "code",
        "colab": {}
      },
      "source": [
        ""
      ],
      "execution_count": null,
      "outputs": []
    }
  ]
}